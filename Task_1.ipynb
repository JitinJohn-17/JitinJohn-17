{
  "nbformat": 4,
  "nbformat_minor": 0,
  "metadata": {
    "colab": {
      "name": "Task 1.ipynb",
      "provenance": [],
      "collapsed_sections": [],
      "authorship_tag": "ABX9TyPHxmeJWrAJVjnifXWZSEII",
      "include_colab_link": true
    },
    "kernelspec": {
      "name": "python3",
      "display_name": "Python 3"
    },
    "language_info": {
      "name": "python"
    }
  },
  "cells": [
    {
      "cell_type": "markdown",
      "metadata": {
        "id": "view-in-github",
        "colab_type": "text"
      },
      "source": [
        "<a href=\"https://colab.research.google.com/github/JitinJohn-17/JitinJohn-17/blob/main/Task_1.ipynb\" target=\"_parent\"><img src=\"https://colab.research.google.com/assets/colab-badge.svg\" alt=\"Open In Colab\"/></a>"
      ]
    },
    {
      "cell_type": "markdown",
      "metadata": {
        "id": "PXhjLM7zrQM2"
      },
      "source": [
        "# **Name - Charivukalayil Jitin John**\n",
        "\n",
        "##**Task:Prediction using Supervised Learning**"
      ]
    },
    {
      "cell_type": "markdown",
      "metadata": {
        "id": "Pcwl6rrBbPQz"
      },
      "source": [
        "##**Linear Regression**\n",
        "\n",
        "Linear Regression is a linear model where we get to know about the linear relationship between our input variables(x) and an output variable(y). When there is one input variable it is referred as simple linear regression and when there are more than one input variable, it is known as multiple linear regression.\n",
        "\n",
        "Today we're going to see about simple linear regression in this project."
      ]
    },
    {
      "cell_type": "code",
      "metadata": {
        "id": "dL5Fp6-qq2wa"
      },
      "source": [
        "#Importing libraries\n",
        "import pandas as pd\n",
        "import matplotlib.pyplot as plt\n",
        "import plotly.express as px\n",
        "%matplotlib inline"
      ],
      "execution_count": 19,
      "outputs": []
    },
    {
      "cell_type": "markdown",
      "metadata": {
        "id": "_t_xRXNPrS3X"
      },
      "source": [
        "###**Data Extraction**"
      ]
    },
    {
      "cell_type": "code",
      "metadata": {
        "id": "z0WmfMRSrq2_"
      },
      "source": [
        "#Reading data from url\n",
        "data = pd.read_csv(\"https://raw.githubusercontent.com/AdiPersonalWorks/Random/master/student_scores%20-%20student_scores.csv\")"
      ],
      "execution_count": 3,
      "outputs": []
    },
    {
      "cell_type": "code",
      "metadata": {
        "colab": {
          "base_uri": "https://localhost:8080/"
        },
        "id": "mxfGcx8AsOPi",
        "outputId": "a098f83e-acb0-4c9d-d584-388dedf96269"
      },
      "source": [
        "#printing some data\n",
        "print(data.head())"
      ],
      "execution_count": 4,
      "outputs": [
        {
          "output_type": "stream",
          "text": [
            "   Hours  Scores\n",
            "0    2.5      21\n",
            "1    5.1      47\n",
            "2    3.2      27\n",
            "3    8.5      75\n",
            "4    3.5      30\n"
          ],
          "name": "stdout"
        }
      ]
    },
    {
      "cell_type": "markdown",
      "metadata": {
        "id": "dNR-1eT3MhFB"
      },
      "source": [
        "###**Exploring the dataset**"
      ]
    },
    {
      "cell_type": "code",
      "metadata": {
        "colab": {
          "base_uri": "https://localhost:8080/",
          "height": 297
        },
        "id": "Ahr-70J0nnIw",
        "outputId": "cf3cb4df-4beb-47b1-824c-05182ff8142f"
      },
      "source": [
        "#Other details of the dataset\n",
        "data.describe()"
      ],
      "execution_count": 5,
      "outputs": [
        {
          "output_type": "execute_result",
          "data": {
            "text/html": [
              "<div>\n",
              "<style scoped>\n",
              "    .dataframe tbody tr th:only-of-type {\n",
              "        vertical-align: middle;\n",
              "    }\n",
              "\n",
              "    .dataframe tbody tr th {\n",
              "        vertical-align: top;\n",
              "    }\n",
              "\n",
              "    .dataframe thead th {\n",
              "        text-align: right;\n",
              "    }\n",
              "</style>\n",
              "<table border=\"1\" class=\"dataframe\">\n",
              "  <thead>\n",
              "    <tr style=\"text-align: right;\">\n",
              "      <th></th>\n",
              "      <th>Hours</th>\n",
              "      <th>Scores</th>\n",
              "    </tr>\n",
              "  </thead>\n",
              "  <tbody>\n",
              "    <tr>\n",
              "      <th>count</th>\n",
              "      <td>25.000000</td>\n",
              "      <td>25.000000</td>\n",
              "    </tr>\n",
              "    <tr>\n",
              "      <th>mean</th>\n",
              "      <td>5.012000</td>\n",
              "      <td>51.480000</td>\n",
              "    </tr>\n",
              "    <tr>\n",
              "      <th>std</th>\n",
              "      <td>2.525094</td>\n",
              "      <td>25.286887</td>\n",
              "    </tr>\n",
              "    <tr>\n",
              "      <th>min</th>\n",
              "      <td>1.100000</td>\n",
              "      <td>17.000000</td>\n",
              "    </tr>\n",
              "    <tr>\n",
              "      <th>25%</th>\n",
              "      <td>2.700000</td>\n",
              "      <td>30.000000</td>\n",
              "    </tr>\n",
              "    <tr>\n",
              "      <th>50%</th>\n",
              "      <td>4.800000</td>\n",
              "      <td>47.000000</td>\n",
              "    </tr>\n",
              "    <tr>\n",
              "      <th>75%</th>\n",
              "      <td>7.400000</td>\n",
              "      <td>75.000000</td>\n",
              "    </tr>\n",
              "    <tr>\n",
              "      <th>max</th>\n",
              "      <td>9.200000</td>\n",
              "      <td>95.000000</td>\n",
              "    </tr>\n",
              "  </tbody>\n",
              "</table>\n",
              "</div>"
            ],
            "text/plain": [
              "           Hours     Scores\n",
              "count  25.000000  25.000000\n",
              "mean    5.012000  51.480000\n",
              "std     2.525094  25.286887\n",
              "min     1.100000  17.000000\n",
              "25%     2.700000  30.000000\n",
              "50%     4.800000  47.000000\n",
              "75%     7.400000  75.000000\n",
              "max     9.200000  95.000000"
            ]
          },
          "metadata": {
            "tags": []
          },
          "execution_count": 5
        }
      ]
    },
    {
      "cell_type": "code",
      "metadata": {
        "colab": {
          "base_uri": "https://localhost:8080/"
        },
        "id": "hGVfqkVmWfwX",
        "outputId": "1bc18f19-f0a2-4421-c2fa-24bed3fa8437"
      },
      "source": [
        "data.info()"
      ],
      "execution_count": 6,
      "outputs": [
        {
          "output_type": "stream",
          "text": [
            "<class 'pandas.core.frame.DataFrame'>\n",
            "RangeIndex: 25 entries, 0 to 24\n",
            "Data columns (total 2 columns):\n",
            " #   Column  Non-Null Count  Dtype  \n",
            "---  ------  --------------  -----  \n",
            " 0   Hours   25 non-null     float64\n",
            " 1   Scores  25 non-null     int64  \n",
            "dtypes: float64(1), int64(1)\n",
            "memory usage: 528.0 bytes\n"
          ],
          "name": "stdout"
        }
      ]
    },
    {
      "cell_type": "markdown",
      "metadata": {
        "id": "7Uj7btEDXWBR"
      },
      "source": [
        "Plotting the datapoints to see if there is any relationship among them"
      ]
    },
    {
      "cell_type": "code",
      "metadata": {
        "colab": {
          "base_uri": "https://localhost:8080/",
          "height": 542
        },
        "id": "f0JtzNIxK4lQ",
        "outputId": "0c10c1ae-627c-4aa4-f777-5e2529ea4bed"
      },
      "source": [
        "fig = px.scatter(data,x='Hours',y='Scores',opacity= 0.7,title ='Hours vs Percentage')\n",
        "fig.update_traces(marker_size = 5)\n",
        "fig.show("png")\n"
      ],
      "execution_count": 24,
      "outputs": [
        {
          "output_type": "display_data",
          "data": {
            "text/html": [
              "<html>\n",
              "<head><meta charset=\"utf-8\" /></head>\n",
              "<body>\n",
              "    <div>\n",
              "            <script src=\"https://cdnjs.cloudflare.com/ajax/libs/mathjax/2.7.5/MathJax.js?config=TeX-AMS-MML_SVG\"></script><script type=\"text/javascript\">if (window.MathJax) {MathJax.Hub.Config({SVG: {font: \"STIX-Web\"}});}</script>\n",
              "                <script type=\"text/javascript\">window.PlotlyConfig = {MathJaxConfig: 'local'};</script>\n",
              "        <script src=\"https://cdn.plot.ly/plotly-latest.min.js\"></script>    \n",
              "            <div id=\"bd0654e0-933b-43a8-b861-b144fac34355\" class=\"plotly-graph-div\" style=\"height:525px; width:100%;\"></div>\n",
              "            <script type=\"text/javascript\">\n",
              "                \n",
              "                    window.PLOTLYENV=window.PLOTLYENV || {};\n",
              "                    \n",
              "                if (document.getElementById(\"bd0654e0-933b-43a8-b861-b144fac34355\")) {\n",
              "                    Plotly.newPlot(\n",
              "                        'bd0654e0-933b-43a8-b861-b144fac34355',\n",
              "                        [{\"hoverlabel\": {\"namelength\": 0}, \"hovertemplate\": \"Hours=%{x}<br>Scores=%{y}\", \"legendgroup\": \"\", \"marker\": {\"color\": \"#636efa\", \"opacity\": 0.7, \"size\": 5, \"symbol\": \"circle\"}, \"mode\": \"markers\", \"name\": \"\", \"showlegend\": false, \"type\": \"scatter\", \"x\": [2.5, 5.1, 3.2, 8.5, 3.5, 1.5, 9.2, 5.5, 8.3, 2.7, 7.7, 5.9, 4.5, 3.3, 1.1, 8.9, 2.5, 1.9, 6.1, 7.4, 2.7, 4.8, 3.8, 6.9, 7.8], \"xaxis\": \"x\", \"y\": [21, 47, 27, 75, 30, 20, 88, 60, 81, 25, 85, 62, 41, 42, 17, 95, 30, 24, 67, 69, 30, 54, 35, 76, 86], \"yaxis\": \"y\"}],\n",
              "                        {\"legend\": {\"tracegroupgap\": 0}, \"template\": {\"data\": {\"bar\": [{\"error_x\": {\"color\": \"#2a3f5f\"}, \"error_y\": {\"color\": \"#2a3f5f\"}, \"marker\": {\"line\": {\"color\": \"#E5ECF6\", \"width\": 0.5}}, \"type\": \"bar\"}], \"barpolar\": [{\"marker\": {\"line\": {\"color\": \"#E5ECF6\", \"width\": 0.5}}, \"type\": \"barpolar\"}], \"carpet\": [{\"aaxis\": {\"endlinecolor\": \"#2a3f5f\", \"gridcolor\": \"white\", \"linecolor\": \"white\", \"minorgridcolor\": \"white\", \"startlinecolor\": \"#2a3f5f\"}, \"baxis\": {\"endlinecolor\": \"#2a3f5f\", \"gridcolor\": \"white\", \"linecolor\": \"white\", \"minorgridcolor\": \"white\", \"startlinecolor\": \"#2a3f5f\"}, \"type\": \"carpet\"}], \"choropleth\": [{\"colorbar\": {\"outlinewidth\": 0, \"ticks\": \"\"}, \"type\": \"choropleth\"}], \"contour\": [{\"colorbar\": {\"outlinewidth\": 0, \"ticks\": \"\"}, \"colorscale\": [[0.0, \"#0d0887\"], [0.1111111111111111, \"#46039f\"], [0.2222222222222222, \"#7201a8\"], [0.3333333333333333, \"#9c179e\"], [0.4444444444444444, \"#bd3786\"], [0.5555555555555556, \"#d8576b\"], [0.6666666666666666, \"#ed7953\"], [0.7777777777777778, \"#fb9f3a\"], [0.8888888888888888, \"#fdca26\"], [1.0, \"#f0f921\"]], \"type\": \"contour\"}], \"contourcarpet\": [{\"colorbar\": {\"outlinewidth\": 0, \"ticks\": \"\"}, \"type\": \"contourcarpet\"}], \"heatmap\": [{\"colorbar\": {\"outlinewidth\": 0, \"ticks\": \"\"}, \"colorscale\": [[0.0, \"#0d0887\"], [0.1111111111111111, \"#46039f\"], [0.2222222222222222, \"#7201a8\"], [0.3333333333333333, \"#9c179e\"], [0.4444444444444444, \"#bd3786\"], [0.5555555555555556, \"#d8576b\"], [0.6666666666666666, \"#ed7953\"], [0.7777777777777778, \"#fb9f3a\"], [0.8888888888888888, \"#fdca26\"], [1.0, \"#f0f921\"]], \"type\": \"heatmap\"}], \"heatmapgl\": [{\"colorbar\": {\"outlinewidth\": 0, \"ticks\": \"\"}, \"colorscale\": [[0.0, \"#0d0887\"], [0.1111111111111111, \"#46039f\"], [0.2222222222222222, \"#7201a8\"], [0.3333333333333333, \"#9c179e\"], [0.4444444444444444, \"#bd3786\"], [0.5555555555555556, \"#d8576b\"], [0.6666666666666666, \"#ed7953\"], [0.7777777777777778, \"#fb9f3a\"], [0.8888888888888888, \"#fdca26\"], [1.0, \"#f0f921\"]], \"type\": \"heatmapgl\"}], \"histogram\": [{\"marker\": {\"colorbar\": {\"outlinewidth\": 0, \"ticks\": \"\"}}, \"type\": \"histogram\"}], \"histogram2d\": [{\"colorbar\": {\"outlinewidth\": 0, \"ticks\": \"\"}, \"colorscale\": [[0.0, \"#0d0887\"], [0.1111111111111111, \"#46039f\"], [0.2222222222222222, \"#7201a8\"], [0.3333333333333333, \"#9c179e\"], [0.4444444444444444, \"#bd3786\"], [0.5555555555555556, \"#d8576b\"], [0.6666666666666666, \"#ed7953\"], [0.7777777777777778, \"#fb9f3a\"], [0.8888888888888888, \"#fdca26\"], [1.0, \"#f0f921\"]], \"type\": \"histogram2d\"}], \"histogram2dcontour\": [{\"colorbar\": {\"outlinewidth\": 0, \"ticks\": \"\"}, \"colorscale\": [[0.0, \"#0d0887\"], [0.1111111111111111, \"#46039f\"], [0.2222222222222222, \"#7201a8\"], [0.3333333333333333, \"#9c179e\"], [0.4444444444444444, \"#bd3786\"], [0.5555555555555556, \"#d8576b\"], [0.6666666666666666, \"#ed7953\"], [0.7777777777777778, \"#fb9f3a\"], [0.8888888888888888, \"#fdca26\"], [1.0, \"#f0f921\"]], \"type\": \"histogram2dcontour\"}], \"mesh3d\": [{\"colorbar\": {\"outlinewidth\": 0, \"ticks\": \"\"}, \"type\": \"mesh3d\"}], \"parcoords\": [{\"line\": {\"colorbar\": {\"outlinewidth\": 0, \"ticks\": \"\"}}, \"type\": \"parcoords\"}], \"pie\": [{\"automargin\": true, \"type\": \"pie\"}], \"scatter\": [{\"marker\": {\"colorbar\": {\"outlinewidth\": 0, \"ticks\": \"\"}}, \"type\": \"scatter\"}], \"scatter3d\": [{\"line\": {\"colorbar\": {\"outlinewidth\": 0, \"ticks\": \"\"}}, \"marker\": {\"colorbar\": {\"outlinewidth\": 0, \"ticks\": \"\"}}, \"type\": \"scatter3d\"}], \"scattercarpet\": [{\"marker\": {\"colorbar\": {\"outlinewidth\": 0, \"ticks\": \"\"}}, \"type\": \"scattercarpet\"}], \"scattergeo\": [{\"marker\": {\"colorbar\": {\"outlinewidth\": 0, \"ticks\": \"\"}}, \"type\": \"scattergeo\"}], \"scattergl\": [{\"marker\": {\"colorbar\": {\"outlinewidth\": 0, \"ticks\": \"\"}}, \"type\": \"scattergl\"}], \"scattermapbox\": [{\"marker\": {\"colorbar\": {\"outlinewidth\": 0, \"ticks\": \"\"}}, \"type\": \"scattermapbox\"}], \"scatterpolar\": [{\"marker\": {\"colorbar\": {\"outlinewidth\": 0, \"ticks\": \"\"}}, \"type\": \"scatterpolar\"}], \"scatterpolargl\": [{\"marker\": {\"colorbar\": {\"outlinewidth\": 0, \"ticks\": \"\"}}, \"type\": \"scatterpolargl\"}], \"scatterternary\": [{\"marker\": {\"colorbar\": {\"outlinewidth\": 0, \"ticks\": \"\"}}, \"type\": \"scatterternary\"}], \"surface\": [{\"colorbar\": {\"outlinewidth\": 0, \"ticks\": \"\"}, \"colorscale\": [[0.0, \"#0d0887\"], [0.1111111111111111, \"#46039f\"], [0.2222222222222222, \"#7201a8\"], [0.3333333333333333, \"#9c179e\"], [0.4444444444444444, \"#bd3786\"], [0.5555555555555556, \"#d8576b\"], [0.6666666666666666, \"#ed7953\"], [0.7777777777777778, \"#fb9f3a\"], [0.8888888888888888, \"#fdca26\"], [1.0, \"#f0f921\"]], \"type\": \"surface\"}], \"table\": [{\"cells\": {\"fill\": {\"color\": \"#EBF0F8\"}, \"line\": {\"color\": \"white\"}}, \"header\": {\"fill\": {\"color\": \"#C8D4E3\"}, \"line\": {\"color\": \"white\"}}, \"type\": \"table\"}]}, \"layout\": {\"annotationdefaults\": {\"arrowcolor\": \"#2a3f5f\", \"arrowhead\": 0, \"arrowwidth\": 1}, \"coloraxis\": {\"colorbar\": {\"outlinewidth\": 0, \"ticks\": \"\"}}, \"colorscale\": {\"diverging\": [[0, \"#8e0152\"], [0.1, \"#c51b7d\"], [0.2, \"#de77ae\"], [0.3, \"#f1b6da\"], [0.4, \"#fde0ef\"], [0.5, \"#f7f7f7\"], [0.6, \"#e6f5d0\"], [0.7, \"#b8e186\"], [0.8, \"#7fbc41\"], [0.9, \"#4d9221\"], [1, \"#276419\"]], \"sequential\": [[0.0, \"#0d0887\"], [0.1111111111111111, \"#46039f\"], [0.2222222222222222, \"#7201a8\"], [0.3333333333333333, \"#9c179e\"], [0.4444444444444444, \"#bd3786\"], [0.5555555555555556, \"#d8576b\"], [0.6666666666666666, \"#ed7953\"], [0.7777777777777778, \"#fb9f3a\"], [0.8888888888888888, \"#fdca26\"], [1.0, \"#f0f921\"]], \"sequentialminus\": [[0.0, \"#0d0887\"], [0.1111111111111111, \"#46039f\"], [0.2222222222222222, \"#7201a8\"], [0.3333333333333333, \"#9c179e\"], [0.4444444444444444, \"#bd3786\"], [0.5555555555555556, \"#d8576b\"], [0.6666666666666666, \"#ed7953\"], [0.7777777777777778, \"#fb9f3a\"], [0.8888888888888888, \"#fdca26\"], [1.0, \"#f0f921\"]]}, \"colorway\": [\"#636efa\", \"#EF553B\", \"#00cc96\", \"#ab63fa\", \"#FFA15A\", \"#19d3f3\", \"#FF6692\", \"#B6E880\", \"#FF97FF\", \"#FECB52\"], \"font\": {\"color\": \"#2a3f5f\"}, \"geo\": {\"bgcolor\": \"white\", \"lakecolor\": \"white\", \"landcolor\": \"#E5ECF6\", \"showlakes\": true, \"showland\": true, \"subunitcolor\": \"white\"}, \"hoverlabel\": {\"align\": \"left\"}, \"hovermode\": \"closest\", \"mapbox\": {\"style\": \"light\"}, \"paper_bgcolor\": \"white\", \"plot_bgcolor\": \"#E5ECF6\", \"polar\": {\"angularaxis\": {\"gridcolor\": \"white\", \"linecolor\": \"white\", \"ticks\": \"\"}, \"bgcolor\": \"#E5ECF6\", \"radialaxis\": {\"gridcolor\": \"white\", \"linecolor\": \"white\", \"ticks\": \"\"}}, \"scene\": {\"xaxis\": {\"backgroundcolor\": \"#E5ECF6\", \"gridcolor\": \"white\", \"gridwidth\": 2, \"linecolor\": \"white\", \"showbackground\": true, \"ticks\": \"\", \"zerolinecolor\": \"white\"}, \"yaxis\": {\"backgroundcolor\": \"#E5ECF6\", \"gridcolor\": \"white\", \"gridwidth\": 2, \"linecolor\": \"white\", \"showbackground\": true, \"ticks\": \"\", \"zerolinecolor\": \"white\"}, \"zaxis\": {\"backgroundcolor\": \"#E5ECF6\", \"gridcolor\": \"white\", \"gridwidth\": 2, \"linecolor\": \"white\", \"showbackground\": true, \"ticks\": \"\", \"zerolinecolor\": \"white\"}}, \"shapedefaults\": {\"line\": {\"color\": \"#2a3f5f\"}}, \"ternary\": {\"aaxis\": {\"gridcolor\": \"white\", \"linecolor\": \"white\", \"ticks\": \"\"}, \"baxis\": {\"gridcolor\": \"white\", \"linecolor\": \"white\", \"ticks\": \"\"}, \"bgcolor\": \"#E5ECF6\", \"caxis\": {\"gridcolor\": \"white\", \"linecolor\": \"white\", \"ticks\": \"\"}}, \"title\": {\"x\": 0.05}, \"xaxis\": {\"automargin\": true, \"gridcolor\": \"white\", \"linecolor\": \"white\", \"ticks\": \"\", \"title\": {\"standoff\": 15}, \"zerolinecolor\": \"white\", \"zerolinewidth\": 2}, \"yaxis\": {\"automargin\": true, \"gridcolor\": \"white\", \"linecolor\": \"white\", \"ticks\": \"\", \"title\": {\"standoff\": 15}, \"zerolinecolor\": \"white\", \"zerolinewidth\": 2}}}, \"title\": {\"text\": \"Hours vs Percentage\"}, \"xaxis\": {\"anchor\": \"y\", \"domain\": [0.0, 1.0], \"title\": {\"text\": \"Hours\"}}, \"yaxis\": {\"anchor\": \"x\", \"domain\": [0.0, 1.0], \"title\": {\"text\": \"Scores\"}}},\n",
              "                        {\"responsive\": true}\n",
              "                    ).then(function(){\n",
              "                            \n",
              "var gd = document.getElementById('bd0654e0-933b-43a8-b861-b144fac34355');\n",
              "var x = new MutationObserver(function (mutations, observer) {{\n",
              "        var display = window.getComputedStyle(gd).display;\n",
              "        if (!display || display === 'none') {{\n",
              "            console.log([gd, 'removed!']);\n",
              "            Plotly.purge(gd);\n",
              "            observer.disconnect();\n",
              "        }}\n",
              "}});\n",
              "\n",
              "// Listen for the removal of the full notebook cells\n",
              "var notebookContainer = gd.closest('#notebook-container');\n",
              "if (notebookContainer) {{\n",
              "    x.observe(notebookContainer, {childList: true});\n",
              "}}\n",
              "\n",
              "// Listen for the clearing of the current output cell\n",
              "var outputEl = gd.closest('.output');\n",
              "if (outputEl) {{\n",
              "    x.observe(outputEl, {childList: true});\n",
              "}}\n",
              "\n",
              "                        })\n",
              "                };\n",
              "                \n",
              "            </script>\n",
              "        </div>\n",
              "</body>\n",
              "</html>"
            ]
          },
          "metadata": {
            "tags": []
          }
        }
      ]
    },
    {
      "cell_type": "markdown",
      "metadata": {
        "id": "sBufPumkSMEn"
      },
      "source": [
        "**Observing the graph we can say that the data has a positive linear relation between the hours and score percenatge**"
      ]
    },
    {
      "cell_type": "markdown",
      "metadata": {
        "id": "ug1Fo_cjLxg5"
      },
      "source": [
        "###**Data Preparation**"
      ]
    },
    {
      "cell_type": "markdown",
      "metadata": {
        "id": "vcPy488xUVPv"
      },
      "source": [
        "For a linear regression model to work we need to work with two variables and hence we have to bifurcate the hours as x variable and scores as y variable "
      ]
    },
    {
      "cell_type": "code",
      "metadata": {
        "id": "WgUgei51sSB6"
      },
      "source": [
        "x_data = data.iloc[:,:-1].values\n",
        "y_data = data.iloc[:,1].values"
      ],
      "execution_count": 8,
      "outputs": []
    },
    {
      "cell_type": "code",
      "metadata": {
        "id": "lZVhEdoLszMN",
        "colab": {
          "base_uri": "https://localhost:8080/"
        },
        "outputId": "72cb410a-9e59-4c6d-ba62-11d7b6eed90c"
      },
      "source": [
        "x_data"
      ],
      "execution_count": 9,
      "outputs": [
        {
          "output_type": "execute_result",
          "data": {
            "text/plain": [
              "array([[2.5],\n",
              "       [5.1],\n",
              "       [3.2],\n",
              "       [8.5],\n",
              "       [3.5],\n",
              "       [1.5],\n",
              "       [9.2],\n",
              "       [5.5],\n",
              "       [8.3],\n",
              "       [2.7],\n",
              "       [7.7],\n",
              "       [5.9],\n",
              "       [4.5],\n",
              "       [3.3],\n",
              "       [1.1],\n",
              "       [8.9],\n",
              "       [2.5],\n",
              "       [1.9],\n",
              "       [6.1],\n",
              "       [7.4],\n",
              "       [2.7],\n",
              "       [4.8],\n",
              "       [3.8],\n",
              "       [6.9],\n",
              "       [7.8]])"
            ]
          },
          "metadata": {
            "tags": []
          },
          "execution_count": 9
        }
      ]
    },
    {
      "cell_type": "code",
      "metadata": {
        "colab": {
          "base_uri": "https://localhost:8080/"
        },
        "id": "hyTgoH5Joqe9",
        "outputId": "b4843b38-3b54-4564-aa77-708e8c5e2dd3"
      },
      "source": [
        "y_data"
      ],
      "execution_count": 10,
      "outputs": [
        {
          "output_type": "execute_result",
          "data": {
            "text/plain": [
              "array([21, 47, 27, 75, 30, 20, 88, 60, 81, 25, 85, 62, 41, 42, 17, 95, 30,\n",
              "       24, 67, 69, 30, 54, 35, 76, 86])"
            ]
          },
          "metadata": {
            "tags": []
          },
          "execution_count": 10
        }
      ]
    },
    {
      "cell_type": "markdown",
      "metadata": {
        "id": "Cm3zCKVwL3ix"
      },
      "source": [
        "###**Training the data**"
      ]
    },
    {
      "cell_type": "markdown",
      "metadata": {
        "id": "OzZSIIp9Tyzw"
      },
      "source": [
        "Here we will split the dataset into training and testing data where the training data is used to train our model and the testing data is used to validate the model."
      ]
    },
    {
      "cell_type": "code",
      "metadata": {
        "id": "lZfWx0k-qH1l"
      },
      "source": [
        "from sklearn.model_selection import train_test_split\n",
        "X_train,X_test,Y_train,Y_test = train_test_split(x_data,y_data,test_size = 0.2,random_state = 0)"
      ],
      "execution_count": 11,
      "outputs": []
    },
    {
      "cell_type": "code",
      "metadata": {
        "colab": {
          "base_uri": "https://localhost:8080/"
        },
        "id": "025GKZp7q9E6",
        "outputId": "49af5bcd-3d28-4b3a-a577-fcc51129bee2"
      },
      "source": [
        "from sklearn.linear_model import LinearRegression\n",
        "lr_model = LinearRegression()\n",
        "lr_model.fit(X_train,Y_train)\n",
        "\n",
        "print(\"Finished Training\")"
      ],
      "execution_count": 12,
      "outputs": [
        {
          "output_type": "stream",
          "text": [
            "Finished Training\n"
          ],
          "name": "stdout"
        }
      ]
    },
    {
      "cell_type": "markdown",
      "metadata": {
        "id": "ssyUoA8lMMMZ"
      },
      "source": [
        "###**Prediction**"
      ]
    },
    {
      "cell_type": "code",
      "metadata": {
        "colab": {
          "base_uri": "https://localhost:8080/",
          "height": 265
        },
        "id": "fDDf5-J4rcG6",
        "outputId": "47947c3c-82c4-4f31-f43a-2b90cc3a1d71"
      },
      "source": [
        "#Plotting the regression line\n",
        "line = lr_model.coef_*x_data + lr_model.intercept_\n",
        "\n",
        "#Plotting the data\n",
        "plt.scatter(x_data,y_data,c='Red')\n",
        "plt.plot(x_data,line)\n",
        "plt.show()"
      ],
      "execution_count": 31,
      "outputs": [
        {
          "output_type": "display_data",
          "data": {
            "image/png": "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\n",
            "text/plain": [
              "<Figure size 432x288 with 1 Axes>"
            ]
          },
          "metadata": {
            "tags": [],
            "needs_background": "light"
          }
        }
      ]
    },
    {
      "cell_type": "markdown",
      "metadata": {
        "id": "EUo4vzvDTVpU"
      },
      "source": [
        "Now we will predict the values using our model through the input data from testing dataset and do a comparative study between the predicted data and original data"
      ]
    },
    {
      "cell_type": "code",
      "metadata": {
        "id": "vEEqxEFvsWEJ"
      },
      "source": [
        "y_pred = lr_model.predict(X_test)"
      ],
      "execution_count": 14,
      "outputs": []
    },
    {
      "cell_type": "code",
      "metadata": {
        "colab": {
          "base_uri": "https://localhost:8080/",
          "height": 204
        },
        "id": "sMNFLqf4strE",
        "outputId": "e7f52390-f36d-4777-ce46-850983cf4699"
      },
      "source": [
        "model_pred = pd.DataFrame({'Actual':Y_test,'Predicted':y_pred})\n",
        "model_pred"
      ],
      "execution_count": 15,
      "outputs": [
        {
          "output_type": "execute_result",
          "data": {
            "text/html": [
              "<div>\n",
              "<style scoped>\n",
              "    .dataframe tbody tr th:only-of-type {\n",
              "        vertical-align: middle;\n",
              "    }\n",
              "\n",
              "    .dataframe tbody tr th {\n",
              "        vertical-align: top;\n",
              "    }\n",
              "\n",
              "    .dataframe thead th {\n",
              "        text-align: right;\n",
              "    }\n",
              "</style>\n",
              "<table border=\"1\" class=\"dataframe\">\n",
              "  <thead>\n",
              "    <tr style=\"text-align: right;\">\n",
              "      <th></th>\n",
              "      <th>Actual</th>\n",
              "      <th>Predicted</th>\n",
              "    </tr>\n",
              "  </thead>\n",
              "  <tbody>\n",
              "    <tr>\n",
              "      <th>0</th>\n",
              "      <td>20</td>\n",
              "      <td>16.884145</td>\n",
              "    </tr>\n",
              "    <tr>\n",
              "      <th>1</th>\n",
              "      <td>27</td>\n",
              "      <td>33.732261</td>\n",
              "    </tr>\n",
              "    <tr>\n",
              "      <th>2</th>\n",
              "      <td>69</td>\n",
              "      <td>75.357018</td>\n",
              "    </tr>\n",
              "    <tr>\n",
              "      <th>3</th>\n",
              "      <td>30</td>\n",
              "      <td>26.794801</td>\n",
              "    </tr>\n",
              "    <tr>\n",
              "      <th>4</th>\n",
              "      <td>62</td>\n",
              "      <td>60.491033</td>\n",
              "    </tr>\n",
              "  </tbody>\n",
              "</table>\n",
              "</div>"
            ],
            "text/plain": [
              "   Actual  Predicted\n",
              "0      20  16.884145\n",
              "1      27  33.732261\n",
              "2      69  75.357018\n",
              "3      30  26.794801\n",
              "4      62  60.491033"
            ]
          },
          "metadata": {
            "tags": []
          },
          "execution_count": 15
        }
      ]
    },
    {
      "cell_type": "markdown",
      "metadata": {
        "id": "q11280mSGHmy"
      },
      "source": [
        "What will be the predicted score if a student studies for 9.25 hrs/day?"
      ]
    },
    {
      "cell_type": "code",
      "metadata": {
        "id": "B4oFAIMatKM_",
        "colab": {
          "base_uri": "https://localhost:8080/"
        },
        "outputId": "d9a4a0a6-8bdb-450c-c51a-d9f0d10cc8a4"
      },
      "source": [
        "hrs = 9.25\n",
        "ans = lr_model.predict([[hrs]])\n",
        "print(\"No of Hours = {}\".format(hrs))\n",
        "print(\"Predicted score = {}\".format(ans[0]))"
      ],
      "execution_count": 16,
      "outputs": [
        {
          "output_type": "stream",
          "text": [
            "No of Hours = 9.25\n",
            "Predicted score = 93.69173248737539\n"
          ],
          "name": "stdout"
        }
      ]
    },
    {
      "cell_type": "markdown",
      "metadata": {
        "id": "b7fBUVVtMSI1"
      },
      "source": [
        "###**Evaluation of the model**"
      ]
    },
    {
      "cell_type": "markdown",
      "metadata": {
        "id": "pu9f2wj3ZsVh"
      },
      "source": [
        "In order to obtain a generalized model we need to evaluate the model using different metrics which would help us to optimize the performance of our model and obtain a better result.  "
      ]
    },
    {
      "cell_type": "code",
      "metadata": {
        "id": "XeNG8PEWGZd-",
        "colab": {
          "base_uri": "https://localhost:8080/"
        },
        "outputId": "ecef881a-cb55-48ad-dedf-f18d69b2846b"
      },
      "source": [
        "from sklearn import metrics\n",
        "print(\"Mean absolute error :\", metrics.mean_absolute_error(Y_test,y_pred))"
      ],
      "execution_count": 17,
      "outputs": [
        {
          "output_type": "stream",
          "text": [
            "Mean absolute error : 4.183859899002982\n"
          ],
          "name": "stdout"
        }
      ]
    },
    {
      "cell_type": "code",
      "metadata": {
        "colab": {
          "base_uri": "https://localhost:8080/"
        },
        "id": "OHdRz2WvnIGI",
        "outputId": "72432f36-6f88-4244-e8a0-0368eaf36546"
      },
      "source": [
        "print(\"Mean squared error :\" , metrics.mean_squared_error(Y_test,y_pred))"
      ],
      "execution_count": 18,
      "outputs": [
        {
          "output_type": "stream",
          "text": [
            "Mean squared error : 21.598769307217456\n"
          ],
          "name": "stdout"
        }
      ]
    },
    {
      "cell_type": "markdown",
      "metadata": {
        "id": "P7lsRiHGabcJ"
      },
      "source": [
        "There are also more evaluation metrics other than these two discussed above and every metric should be used according to our dataset and in other situations."
      ]
    },
    {
      "cell_type": "markdown",
      "metadata": {
        "id": "nNaDbaJubETW"
      },
      "source": [
        "##**Thank you**"
      ]
    },
    {
      "cell_type": "code",
      "metadata": {
        "id": "-ymgEg-Fsdv5"
      },
      "source": [
        ""
      ],
      "execution_count": 18,
      "outputs": []
    }
  ]
}
